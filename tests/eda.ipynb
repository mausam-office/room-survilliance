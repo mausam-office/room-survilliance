{
 "cells": [
  {
   "cell_type": "code",
   "execution_count": null,
   "metadata": {},
   "outputs": [],
   "source": [
    "!pip install plotly\n",
    "!pip install nbformat>=4.2.0"
   ]
  },
  {
   "cell_type": "code",
   "execution_count": null,
   "metadata": {},
   "outputs": [],
   "source": [
    "import pandas as pd\n",
    "from sklearn.preprocessing import LabelEncoder"
   ]
  },
  {
   "cell_type": "code",
   "execution_count": null,
   "metadata": {},
   "outputs": [],
   "source": [
    "pd.set_option('display.max_columns', None)\n",
    "pd.set_option('display.max_rows', None)\n",
    "# or\n",
    "# pd.options.display.max_columns = None\n",
    "# pd.options.display.max_rows = None"
   ]
  },
  {
   "cell_type": "code",
   "execution_count": null,
   "metadata": {},
   "outputs": [],
   "source": [
    "filepath = '../data/dataset_train.csv'"
   ]
  },
  {
   "cell_type": "code",
   "execution_count": null,
   "metadata": {},
   "outputs": [],
   "source": [
    "df = pd.read_csv(filepath)"
   ]
  },
  {
   "cell_type": "code",
   "execution_count": null,
   "metadata": {},
   "outputs": [],
   "source": [
    "len(df)"
   ]
  },
  {
   "cell_type": "code",
   "execution_count": null,
   "metadata": {},
   "outputs": [],
   "source": [
    "df[\"label\"].value_counts()"
   ]
  },
  {
   "cell_type": "code",
   "execution_count": null,
   "metadata": {},
   "outputs": [],
   "source": [
    "def label_wise_records_count(df):\n",
    "    uniques = df['label'].unique()\n",
    "    for uniq_val in uniques:\n",
    "        print(f'{uniq_val}: ', len(df[df['label']==uniq_val]))\n",
    "\n",
    "label_wise_records_count(df)"
   ]
  },
  {
   "cell_type": "code",
   "execution_count": null,
   "metadata": {},
   "outputs": [],
   "source": [
    "df.info(\n",
    ")"
   ]
  },
  {
   "cell_type": "code",
   "execution_count": null,
   "metadata": {},
   "outputs": [],
   "source": [
    "df.describe()"
   ]
  },
  {
   "cell_type": "code",
   "execution_count": null,
   "metadata": {},
   "outputs": [],
   "source": [
    "len(df.columns)"
   ]
  },
  {
   "cell_type": "code",
   "execution_count": null,
   "metadata": {},
   "outputs": [],
   "source": [
    "df.drop(['datetime'], axis=1, inplace=True)\n",
    "len(df.columns)"
   ]
  },
  {
   "cell_type": "code",
   "execution_count": null,
   "metadata": {},
   "outputs": [],
   "source": [
    "df.duplicated().sum()"
   ]
  },
  {
   "cell_type": "code",
   "execution_count": null,
   "metadata": {},
   "outputs": [],
   "source": [
    "df.head(2)"
   ]
  },
  {
   "cell_type": "markdown",
   "metadata": {},
   "source": [
    "- 'standing' - 1\n",
    "- 'sitted' - 0"
   ]
  },
  {
   "cell_type": "code",
   "execution_count": null,
   "metadata": {},
   "outputs": [],
   "source": [
    "df.columns"
   ]
  },
  {
   "cell_type": "code",
   "execution_count": null,
   "metadata": {},
   "outputs": [],
   "source": [
    "# Drop start and end angles \n",
    "def get_cols_without_start_end_angles(df):\n",
    "    cols_without_start_end_angles = []\n",
    "    cols_with_start_end_angles = []\n",
    "    for col in df.columns:\n",
    "        if \"start_angle\" in col or \"end_angle\" in col:\n",
    "            cols_with_start_end_angles.append(col)\n",
    "            continue\n",
    "        cols_without_start_end_angles.append(col)\n",
    "    return cols_without_start_end_angles, cols_with_start_end_angles\n",
    "\n",
    "cols_without_start_end_angles, cols_with_start_end_angles = get_cols_without_start_end_angles(df)"
   ]
  },
  {
   "cell_type": "code",
   "execution_count": null,
   "metadata": {},
   "outputs": [],
   "source": [
    "label_encoder = LabelEncoder()\n",
    "df['label'] = label_encoder.fit_transform(df['label'])\n",
    "label_encoder.classes_"
   ]
  },
  {
   "cell_type": "code",
   "execution_count": null,
   "metadata": {},
   "outputs": [],
   "source": [
    "cols_without_start_end_angles.append('label')\n",
    "cols_without_start_end_angles.remove('img_w')\n",
    "cols_without_start_end_angles.remove('img_h')\n",
    "df[cols_without_start_end_angles].corr()"
   ]
  },
  {
   "cell_type": "code",
   "execution_count": null,
   "metadata": {},
   "outputs": [],
   "source": [
    "corr_df = df.corr()['label']\n",
    "corr_df#[(corr_df > 0.5) | (corr_df<-0.5)]"
   ]
  },
  {
   "cell_type": "code",
   "execution_count": null,
   "metadata": {},
   "outputs": [],
   "source": [
    "coorelated_features_to_drop = [\n",
    "    # 'angle_knee_r',             # corelated with angle in waist and required ankle for appropriate calculation\n",
    "    'angle_knee_l',             # corelated with angle in waist and required ankle for appropriate calculation\n",
    "    'dist_height_r',            # corelated and required ankle for appropriate calculation\n",
    "    'dist_height_l',            # corelated and required ankle for appropriate calculation\n",
    "    # 'height_knee_shoulder_r',   # corelated with height_waist_knee_r/l\n",
    "    'height_knee_shoulder_l',   # corelated with height_waist_knee_r/l\n",
    "    # 'height_ankle_waist_r',     # corelated with height_waist_knee_r/l\n",
    "    # 'height_ankle_waist_l',     # corelated with height_waist_knee_r/l\n",
    "    # 'dist_width',               # corelated with shoulder_l_r\n",
    "    # 'waist_l_r',                # corelated with shoulder_l_r\n",
    "    'visibility_waist_r',       # corelated with visibility_waist_l\n",
    "    'visibility_wrist_l',       # corelated with visibility_elbow_l\n",
    "    'visibility_wrist_r',       # corelated with visibility_elbow_r\n",
    "    'visibility_ankle_l',       # corelated with visibility_knee_l\t\n",
    "    'visibility_ankle_r',       # corelated with visibility_knee_r\t\n",
    "]\n",
    "less_important_features = [\n",
    "    'visibility_ear_r',\n",
    "    'visibility_ear_l',\n",
    "]\n",
    "\n",
    "columns_to_drop = ['img_w', 'img_h', *coorelated_features_to_drop, *less_important_features, *cols_with_start_end_angles]"
   ]
  },
  {
   "cell_type": "code",
   "execution_count": null,
   "metadata": {},
   "outputs": [],
   "source": [
    "feature_pairs_for_mean = [\n",
    "    ('height_shoulder_waist_r', 'height_shoulder_waist_l'),\n",
    "    ('height_waist_knee_r', 'height_waist_knee_l'),\n",
    "]"
   ]
  },
  {
   "cell_type": "code",
   "execution_count": null,
   "metadata": {},
   "outputs": [],
   "source": [
    "df.drop(columns_to_drop, axis=1, inplace=True)\n",
    "df.columns"
   ]
  },
  {
   "cell_type": "code",
   "execution_count": null,
   "metadata": {},
   "outputs": [],
   "source": [
    "import matplotlib.pyplot as plt\n",
    "import math"
   ]
  },
  {
   "cell_type": "code",
   "execution_count": null,
   "metadata": {},
   "outputs": [],
   "source": [
    "def box_plot(df):\n",
    "    features = list(df.columns)\n",
    "    n_features = len(features)\n",
    "    n_cols = 8\n",
    "    n_rows = math.ceil(n_features/n_cols)\n",
    "\n",
    "    plt.figure(figsize=(30, 20), dpi=80)\n",
    "\n",
    "    for idx, feature in enumerate(features):\n",
    "        plt.subplot(n_rows, n_cols, idx+1)\n",
    "        plt.boxplot(df[feature])\n",
    "        plt.title(feature)\n",
    "    plt.show()\n",
    "\n",
    "\n",
    "box_plot(df)"
   ]
  },
  {
   "cell_type": "code",
   "execution_count": null,
   "metadata": {},
   "outputs": [],
   "source": [
    "def histogram_plot(df):\n",
    "    features = list(df.columns)\n",
    "    n_features = len(features)\n",
    "    n_cols = 3\n",
    "    n_rows = math.ceil(n_features/n_cols)\n",
    "\n",
    "    plt.figure(figsize=(30, 30), dpi=80)\n",
    "\n",
    "    for idx, feature in enumerate(features):\n",
    "        plt.subplot(n_rows, n_cols, idx+1)\n",
    "        plt.hist(df[feature])\n",
    "        plt.title(feature)\n",
    "    plt.show()\n",
    "\n",
    "\n",
    "histogram_plot(df)"
   ]
  },
  {
   "cell_type": "code",
   "execution_count": null,
   "metadata": {},
   "outputs": [],
   "source": [
    "import plotly.express as px\n",
    "import plotly.graph_objects as go\n",
    "import plotly.io as pio\n",
    "pio.templates.default = \"plotly_white\""
   ]
  },
  {
   "cell_type": "code",
   "execution_count": null,
   "metadata": {},
   "outputs": [],
   "source": [
    "def find_relation(df, x, y, title=''):\n",
    "    fig = px.box(\n",
    "        df, \n",
    "        x=x, \n",
    "        y=y,  \n",
    "        # color=x, \n",
    "        title=title, \n",
    "        color_discrete_map={\n",
    "            0:'Sitted',\n",
    "            1:'Standing'\n",
    "        }\n",
    "    )\n",
    "    fig.update_traces(quartilemethod=\"exclusive\")\n",
    "    fig.show()\n"
   ]
  },
  {
   "cell_type": "code",
   "execution_count": null,
   "metadata": {},
   "outputs": [],
   "source": [
    "find_relation(df, 'label', 'angle_elbow_r')"
   ]
  },
  {
   "cell_type": "code",
   "execution_count": null,
   "metadata": {},
   "outputs": [],
   "source": [
    "find_relation(df, 'label', 'angle_elbow_l')"
   ]
  },
  {
   "cell_type": "code",
   "execution_count": null,
   "metadata": {},
   "outputs": [],
   "source": [
    "find_relation(df, 'label', 'angle_underarm_l')"
   ]
  },
  {
   "cell_type": "code",
   "execution_count": null,
   "metadata": {},
   "outputs": [],
   "source": [
    "find_relation(df, 'label', 'angle_underarm_r')"
   ]
  },
  {
   "cell_type": "code",
   "execution_count": null,
   "metadata": {},
   "outputs": [],
   "source": [
    "find_relation(df, 'label', 'angle_waist_r')"
   ]
  },
  {
   "cell_type": "code",
   "execution_count": null,
   "metadata": {},
   "outputs": [],
   "source": [
    "find_relation(df, 'label', 'angle_waist_l')"
   ]
  },
  {
   "cell_type": "code",
   "execution_count": null,
   "metadata": {},
   "outputs": [],
   "source": [
    "# find_relation(df, 'label', 'angle_knee_r')"
   ]
  },
  {
   "cell_type": "code",
   "execution_count": null,
   "metadata": {},
   "outputs": [],
   "source": [
    "# find_relation(df, 'label', 'angle_knee_l')"
   ]
  },
  {
   "cell_type": "code",
   "execution_count": null,
   "metadata": {},
   "outputs": [],
   "source": [
    "# find_relation(df, 'label', 'dist_height_r')"
   ]
  },
  {
   "cell_type": "code",
   "execution_count": null,
   "metadata": {},
   "outputs": [],
   "source": [
    "# find_relation(df, 'label', 'dist_height_l')"
   ]
  },
  {
   "cell_type": "code",
   "execution_count": null,
   "metadata": {},
   "outputs": [],
   "source": [
    "# find_relation(df, 'label', 'dist_width')"
   ]
  },
  {
   "cell_type": "code",
   "execution_count": null,
   "metadata": {},
   "outputs": [],
   "source": [
    "find_relation(df, 'label', 'height_shoulder_waist_r')"
   ]
  },
  {
   "cell_type": "code",
   "execution_count": null,
   "metadata": {},
   "outputs": [],
   "source": [
    "find_relation(df, 'label', 'height_shoulder_waist_l')"
   ]
  },
  {
   "cell_type": "code",
   "execution_count": null,
   "metadata": {},
   "outputs": [],
   "source": [
    "find_relation(df, 'label', 'height_waist_knee_r')"
   ]
  },
  {
   "cell_type": "code",
   "execution_count": null,
   "metadata": {},
   "outputs": [],
   "source": [
    "find_relation(df, 'label', 'height_waist_knee_l')"
   ]
  },
  {
   "cell_type": "code",
   "execution_count": null,
   "metadata": {},
   "outputs": [],
   "source": [
    "# find_relation(df, 'label', 'height_knee_shoulder_r')"
   ]
  },
  {
   "cell_type": "code",
   "execution_count": null,
   "metadata": {},
   "outputs": [],
   "source": [
    "# find_relation(df, 'label', 'height_knee_shoulder_l')"
   ]
  },
  {
   "cell_type": "code",
   "execution_count": null,
   "metadata": {},
   "outputs": [],
   "source": [
    "# find_relation(df, 'label', 'height_ankle_waist_r')"
   ]
  },
  {
   "cell_type": "code",
   "execution_count": null,
   "metadata": {},
   "outputs": [],
   "source": [
    "find_relation(df, 'label', 'shoulder_l_r')"
   ]
  },
  {
   "cell_type": "code",
   "execution_count": null,
   "metadata": {},
   "outputs": [],
   "source": [
    "# find_relation(df, 'label', 'waist_l_r')"
   ]
  },
  {
   "cell_type": "code",
   "execution_count": null,
   "metadata": {},
   "outputs": [],
   "source": [
    "find_relation(df, 'label', 'knee_l_r')"
   ]
  },
  {
   "cell_type": "code",
   "execution_count": null,
   "metadata": {},
   "outputs": [],
   "source": [
    "# find_relation(df, 'label', 'visibility_ear_r')"
   ]
  },
  {
   "cell_type": "code",
   "execution_count": null,
   "metadata": {},
   "outputs": [],
   "source": [
    "# find_relation(df, 'label', 'visibility_ear_l')"
   ]
  },
  {
   "cell_type": "code",
   "execution_count": null,
   "metadata": {},
   "outputs": [],
   "source": [
    "find_relation(df, 'label', 'visibility_shoulder_l')"
   ]
  },
  {
   "cell_type": "code",
   "execution_count": null,
   "metadata": {},
   "outputs": [],
   "source": [
    "find_relation(df, 'label', 'visibility_shoulder_r')"
   ]
  },
  {
   "cell_type": "code",
   "execution_count": null,
   "metadata": {},
   "outputs": [],
   "source": [
    "# find_relation(df, 'label', 'visibility_wrist_r')"
   ]
  },
  {
   "cell_type": "code",
   "execution_count": null,
   "metadata": {},
   "outputs": [],
   "source": [
    "# find_relation(df, 'label', 'visibility_wrist_l')"
   ]
  },
  {
   "cell_type": "code",
   "execution_count": null,
   "metadata": {},
   "outputs": [],
   "source": [
    "# find_relation(df, 'label', 'visibility_waist_r')"
   ]
  },
  {
   "cell_type": "code",
   "execution_count": null,
   "metadata": {},
   "outputs": [],
   "source": [
    "find_relation(df, 'label', 'visibility_waist_l')"
   ]
  },
  {
   "cell_type": "code",
   "execution_count": null,
   "metadata": {},
   "outputs": [],
   "source": [
    "find_relation(df, 'label', 'visibility_knee_r')"
   ]
  },
  {
   "cell_type": "code",
   "execution_count": null,
   "metadata": {},
   "outputs": [],
   "source": [
    "find_relation(df, 'label', 'visibility_knee_l')"
   ]
  },
  {
   "cell_type": "code",
   "execution_count": null,
   "metadata": {},
   "outputs": [],
   "source": [
    "# find_relation(df, 'label', 'visibility_ankle_r')"
   ]
  },
  {
   "cell_type": "code",
   "execution_count": null,
   "metadata": {},
   "outputs": [],
   "source": [
    "# find_relation(df, 'label', 'visibility_ankle_l')"
   ]
  },
  {
   "cell_type": "code",
   "execution_count": null,
   "metadata": {},
   "outputs": [],
   "source": [
    "from sklearn.linear_model import LogisticRegression\n",
    "from sklearn.model_selection import train_test_split\n",
    "from sklearn.metrics import confusion_matrix, accuracy_score, classification_report"
   ]
  },
  {
   "cell_type": "code",
   "execution_count": null,
   "metadata": {},
   "outputs": [],
   "source": [
    "X, y = df.drop(['label'], axis=1), df['label']"
   ]
  },
  {
   "cell_type": "code",
   "execution_count": null,
   "metadata": {},
   "outputs": [],
   "source": [
    "X_train, X_test, y_train, y_test = train_test_split(X, y, stratify=y, random_state=42)\n",
    "len(y_train) - (lbl_1 := y_train.sum()), lbl_1, len(y_test)-(lbl_1:=y_test.sum()), lbl_1"
   ]
  },
  {
   "cell_type": "code",
   "execution_count": null,
   "metadata": {},
   "outputs": [],
   "source": [
    "logistic_model = LogisticRegression(max_iter=586)\n",
    "logistic_model.fit(X_train, y_train)"
   ]
  },
  {
   "cell_type": "code",
   "execution_count": null,
   "metadata": {},
   "outputs": [],
   "source": [
    "logistic_model_2 = LogisticRegression(max_iter=807)\n",
    "logistic_model_2.fit(X, y)"
   ]
  },
  {
   "cell_type": "code",
   "execution_count": null,
   "metadata": {},
   "outputs": [],
   "source": [
    "predictions = logistic_model.predict(X_test)\n",
    "accuracy_score(y_test, predictions)"
   ]
  },
  {
   "cell_type": "code",
   "execution_count": null,
   "metadata": {},
   "outputs": [],
   "source": [
    "confusion_matrix(y_test, predictions)"
   ]
  },
  {
   "cell_type": "code",
   "execution_count": null,
   "metadata": {},
   "outputs": [],
   "source": [
    "classification_report(y_test, predictions)"
   ]
  },
  {
   "cell_type": "code",
   "execution_count": null,
   "metadata": {},
   "outputs": [],
   "source": [
    "## Prediction on new test set\n",
    "df_test = pd.read_csv('../data/dataset-test.csv')\n",
    "df_test.drop('datetime', axis=1, inplace=True)"
   ]
  },
  {
   "cell_type": "code",
   "execution_count": null,
   "metadata": {},
   "outputs": [],
   "source": [
    "df_test.drop(columns_to_drop, axis=1, inplace=True)"
   ]
  },
  {
   "cell_type": "code",
   "execution_count": null,
   "metadata": {},
   "outputs": [],
   "source": [
    "df_test['label'] = label_encoder.fit_transform(df_test['label'])\n",
    "label_encoder.classes_"
   ]
  },
  {
   "cell_type": "code",
   "execution_count": null,
   "metadata": {},
   "outputs": [],
   "source": [
    "x_test_2 = df_test.drop('label', axis=1)\n",
    "y_test_2 = df_test['label']\n",
    "len(x_test_2), len(y_test_2)"
   ]
  },
  {
   "cell_type": "code",
   "execution_count": null,
   "metadata": {},
   "outputs": [],
   "source": [
    "predictions = logistic_model.predict(x_test_2)\n",
    "predictions_2 = logistic_model_2.predict(x_test_2)\n",
    "accuracy_score(y_test_2, predictions), accuracy_score(y_test_2, predictions_2)"
   ]
  },
  {
   "cell_type": "code",
   "execution_count": null,
   "metadata": {},
   "outputs": [],
   "source": [
    "confusion_matrix(y_test_2, predictions), confusion_matrix(y_test_2, predictions_2)"
   ]
  },
  {
   "cell_type": "code",
   "execution_count": null,
   "metadata": {},
   "outputs": [],
   "source": [
    "label_encoder.classes_"
   ]
  },
  {
   "cell_type": "code",
   "execution_count": null,
   "metadata": {},
   "outputs": [],
   "source": [
    "classification_report(y_test_2, predictions)"
   ]
  },
  {
   "cell_type": "code",
   "execution_count": null,
   "metadata": {},
   "outputs": [],
   "source": [
    "classification_report(y_test_2, predictions_2)"
   ]
  },
  {
   "cell_type": "code",
   "execution_count": null,
   "metadata": {},
   "outputs": [],
   "source": [
    "from sklearn.tree import DecisionTreeClassifier"
   ]
  },
  {
   "cell_type": "code",
   "execution_count": null,
   "metadata": {},
   "outputs": [],
   "source": [
    "dec_tree_model = DecisionTreeClassifier()\n",
    "dec_tree_model.fit(X, y)"
   ]
  },
  {
   "cell_type": "code",
   "execution_count": null,
   "metadata": {},
   "outputs": [],
   "source": [
    "predictions = dec_tree_model.predict(x_test_2)"
   ]
  },
  {
   "cell_type": "code",
   "execution_count": null,
   "metadata": {},
   "outputs": [],
   "source": [
    "accuracy_score(y_test_2, predictions)"
   ]
  },
  {
   "cell_type": "code",
   "execution_count": null,
   "metadata": {},
   "outputs": [],
   "source": [
    "confusion_matrix(y_test_2, predictions)"
   ]
  },
  {
   "cell_type": "code",
   "execution_count": null,
   "metadata": {},
   "outputs": [],
   "source": [
    "from sklearn.ensemble import RandomForestClassifier"
   ]
  },
  {
   "cell_type": "code",
   "execution_count": null,
   "metadata": {},
   "outputs": [],
   "source": [
    "rf_model = RandomForestClassifier(3, max_depth=3)\n",
    "rf_model.fit(X, y)\n",
    "predictions = rf_model.predict(x_test_2)\n",
    "accuracy_score(y_test_2, predictions)"
   ]
  },
  {
   "cell_type": "code",
   "execution_count": null,
   "metadata": {},
   "outputs": [],
   "source": [
    "confusion_matrix(y_test_2, predictions)"
   ]
  },
  {
   "cell_type": "code",
   "execution_count": null,
   "metadata": {},
   "outputs": [],
   "source": [
    "from sklearn.naive_bayes import GaussianNB\n",
    "gaussian_model = GaussianNB()\n",
    "gaussian_model.fit(X, y)\n",
    "predictions = gaussian_model.predict(x_test_2)\n",
    "accuracy_score(y_test_2, predictions)"
   ]
  },
  {
   "cell_type": "code",
   "execution_count": null,
   "metadata": {},
   "outputs": [],
   "source": [
    "confusion_matrix(y_test_2, predictions)"
   ]
  },
  {
   "cell_type": "code",
   "execution_count": null,
   "metadata": {},
   "outputs": [],
   "source": [
    "from sklearn.naive_bayes import BernoulliNB \n",
    "bernoulli_model = BernoulliNB()\n",
    "bernoulli_model.fit(X, y)\n",
    "predictions = bernoulli_model.predict(x_test_2)\n",
    "accuracy_score(y_test_2, predictions)"
   ]
  },
  {
   "cell_type": "code",
   "execution_count": null,
   "metadata": {},
   "outputs": [],
   "source": [
    "confusion_matrix(y_test_2, predictions)"
   ]
  },
  {
   "cell_type": "code",
   "execution_count": null,
   "metadata": {},
   "outputs": [],
   "source": [
    "from sklearn.naive_bayes import ComplementNB  \n",
    "complement_model = ComplementNB()\n",
    "complement_model.fit(X, y)\n",
    "predictions = complement_model.predict(x_test_2)\n",
    "accuracy_score(y_test_2, predictions)"
   ]
  },
  {
   "cell_type": "code",
   "execution_count": null,
   "metadata": {},
   "outputs": [],
   "source": [
    "confusion_matrix(y_test_2, predictions)"
   ]
  },
  {
   "cell_type": "code",
   "execution_count": null,
   "metadata": {},
   "outputs": [],
   "source": [
    "from sklearn.naive_bayes import MultinomialNB  \n",
    "multinomial_model = MultinomialNB()\n",
    "multinomial_model.fit(X, y)\n",
    "predictions = multinomial_model.predict(x_test_2)\n",
    "accuracy_score(y_test_2, predictions)"
   ]
  },
  {
   "cell_type": "code",
   "execution_count": null,
   "metadata": {},
   "outputs": [],
   "source": [
    "confusion_matrix(y_test_2, predictions)"
   ]
  },
  {
   "cell_type": "code",
   "execution_count": null,
   "metadata": {},
   "outputs": [],
   "source": [
    "from sklearn.svm import SVC\n",
    "SVC_model = SVC()\n",
    "SVC_model.fit(X, y)\n",
    "predictions = SVC_model.predict(x_test_2)\n",
    "accuracy_score(y_test_2, predictions)"
   ]
  },
  {
   "cell_type": "code",
   "execution_count": null,
   "metadata": {},
   "outputs": [],
   "source": [
    "from sklearn.svm import NuSVC\n",
    "SVC_model = NuSVC()\n",
    "SVC_model.fit(X, y)\n",
    "predictions = SVC_model.predict(x_test_2)\n",
    "accuracy_score(y_test_2, predictions)"
   ]
  },
  {
   "cell_type": "code",
   "execution_count": null,
   "metadata": {},
   "outputs": [],
   "source": [
    "from sklearn.svm import LinearSVC\n",
    "SVC_model = LinearSVC(max_iter=30)\n",
    "SVC_model.fit(X, y)\n",
    "predictions = SVC_model.predict(x_test_2)\n",
    "accuracy_score(y_test_2, predictions)"
   ]
  },
  {
   "cell_type": "code",
   "execution_count": null,
   "metadata": {},
   "outputs": [],
   "source": [
    "confusion_matrix(y_test_2, predictions)"
   ]
  },
  {
   "cell_type": "code",
   "execution_count": null,
   "metadata": {},
   "outputs": [],
   "source": [
    "from sklearn.linear_model import SGDClassifier\n",
    "SGD_model = SGDClassifier(early_stopping=True, random_state=2)\n",
    "SGD_model.fit(X, y)\n",
    "predictions = SGD_model.predict(x_test_2)\n",
    "accuracy_score(y_test_2, predictions)"
   ]
  },
  {
   "cell_type": "code",
   "execution_count": null,
   "metadata": {},
   "outputs": [],
   "source": [
    "confusion_matrix(y_test_2, predictions)"
   ]
  },
  {
   "cell_type": "code",
   "execution_count": null,
   "metadata": {},
   "outputs": [],
   "source": [
    "import joblib\n",
    "import os\n",
    "\n",
    "model_path = '../atm/saved_model/sgd_model.pkl'\n",
    "os.makedirs(os.path.dirname(model_path))\n",
    "joblib.dump(SGD_model, model_path)"
   ]
  },
  {
   "cell_type": "code",
   "execution_count": null,
   "metadata": {},
   "outputs": [],
   "source": []
  }
 ],
 "metadata": {
  "kernelspec": {
   "display_name": "Python 3",
   "language": "python",
   "name": "python3"
  },
  "language_info": {
   "codemirror_mode": {
    "name": "ipython",
    "version": 3
   },
   "file_extension": ".py",
   "mimetype": "text/x-python",
   "name": "python",
   "nbconvert_exporter": "python",
   "pygments_lexer": "ipython3",
   "version": "3.10.4"
  }
 },
 "nbformat": 4,
 "nbformat_minor": 2
}
